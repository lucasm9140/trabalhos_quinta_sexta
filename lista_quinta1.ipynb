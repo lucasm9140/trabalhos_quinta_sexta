{
 "cells": [
  {
   "cell_type": "markdown",
   "metadata": {},
   "source": [
    "- Aluno: Lucas matheus\n",
    "- Instituição: Senai\n",
    "- Professor: Romulo\n",
    "- Turno: Vespertino\n",
    "- Curso: Python & IA"
   ]
  },
  {
   "cell_type": "markdown",
   "metadata": {},
   "source": [
    "## Orientação a objetos\n",
    "- O que é ?\n",
    "- Programação Orientada a Objetos (POO) é um paradigma de programação que se baseia na representação de elementos do mundo real como objetos. Cada objeto é uma instância de uma classe, que agrupa atributos (dados ou características) e métodos (ações ou comportamentos). A POO visa facilitar a organização, reutilização de código e aproximar o desenvolvimento de software do manuseio de coisas do mundo real. Em resumo, na POO:\n",
    "\n",
    "    - Objetos representam entidades do mundo real.\n",
    "    - Classes definem a estrutura dos objetos.\n",
    "    - Atributos são as características dos objetos.\n",
    "    - Métodos são as ações que os objetos podem executar.\n",
    "    - Essa abordagem promove a modularidade, encapsulamento e hierarquia, tornando o código mais intuitivo e eficiente1.\n",
    "\n",
    "- Para que serve?\n",
    "    - A programação orientada a objetos (POO) é um paradigma de programação que busca representar o mundo real no código, facilitando a compreensão dos problemas e suas soluções\n",
    "\n",
    "- Como fazer?\n",
    "    - Entenda os Conceitos Básicos:\n",
    "    - Familiarize-se com os conceitos fundamentais da POO, como classes, objetos, atributos e métodos.\n",
    "    - Compreenda os pilares da POO: encapsulamento, herança e polimorfismo.\n",
    "    - Escolha uma Linguagem de Programação:\n",
    "    - Escolha uma linguagem que suporte POO, como Python, Java, C#, Ruby ou C++.\n",
    "    - Instale o ambiente de desenvolvimento (IDE) para a linguagem escolhida.\n",
    "- Crie uma Classe:\n",
    "    - Uma classe é um modelo para criar objetos. Defina os atributos e métodos relevantes.\n",
    "    - Por exemplo, crie uma classe “Carro” com atributos como “cor” e “modelo”.\n",
    "- Instancie Objetos:\n",
    "    - Crie instâncias (objetos) da classe. Por exemplo, crie um objeto “MeuCarro” com a cor “vermelha” e o modelo “sedan”.\n",
    "- Acesse Atributos e Métodos:\n",
    "    - Use a notação de ponto para acessar os atributos e métodos do objeto.\n",
    "    - Exemplo: MeuCarro.cor ou MeuCarro.acelerar().\n",
    "- Herança e Polimorfismo:\n",
    "    - Explore a herança criando subclasses. Por exemplo, crie uma classe “CarroEsportivo” que herda da classe “Carro”.\n",
    "    - Experimente o polimorfismo chamando métodos em diferentes objetos.\n",
    "- Pratique:\n",
    "    - Crie projetos pequenos para aplicar os conceitos aprendidos.\n",
    "    - Refatore código existente para usar POO."
   ]
  },
  {
   "cell_type": "markdown",
   "metadata": {},
   "source": [
    "## Orientação a objetos"
   ]
  },
  {
   "cell_type": "markdown",
   "metadata": {},
   "source": [
    "- A orientação a objetos é um conceito fundamental na programação. Nela, “classes” e “objetos” são os pilares que permitem aos desenvolvedores abstrair e modelar o mundo real dentro de seus programas. Assim, ao adentrarmos nesse universo, é crucial entender um pouco mais desses componentes componentes básicos.\n",
    "- As técnicas de programação orientada a objetos recomendam que a estrutura de um objeto e a implementação de seus métodos devem ser tão privativos como possível. Normalmente, os atributos de um objeto não devem ser visíveis externamente. Da mesma forma, de um método deve ser suficiente conhecer apenas sua especificação, sem necessidade de saber detalhes de como a funcionalidade que ele executa é implementada."
   ]
  },
  {
   "cell_type": "markdown",
   "metadata": {},
   "source": [
    "## Paradigma"
   ]
  },
  {
   "cell_type": "markdown",
   "metadata": {},
   "source": [
    "- Paradigma no significado em dicionário ele significa que são varios tipos de formas ou pode se dizer um conjunto de formas vacabulares.\n",
    "\n",
    "- Também pode ser entendido com um tipo de estruturação ao qual a linguagem deverá respeitar. A depender do objetivo proposto, a solução que a linguagem oferecerá, obedece a um tipo de paradigma. O que irá definir o Paradigma utilizado será a tratativa dada ao problema "
   ]
  },
  {
   "cell_type": "markdown",
   "metadata": {},
   "source": [
    "#### Paradigma imperativo"
   ]
  },
  {
   "cell_type": "markdown",
   "metadata": {},
   "source": [
    "- Também chamado de paradigma procedural - Nesse tipo de construção as instruções devem ser passadas ao computador na sequência em que devem ser executas. Ex.: Cobol, Fortran e Pascal.\n",
    "- Nesse tipo de programação, a pessoa passa uma espécie de passo-a-passo dos procedimentos que a máquina irá executar(daí o nome procedural)."
   ]
  },
  {
   "cell_type": "markdown",
   "metadata": {},
   "source": [
    "#### Paradigma declarativo"
   ]
  },
  {
   "cell_type": "markdown",
   "metadata": {},
   "source": [
    "- O paradigma declarativo, por sua vez, foca mais em \"o quê\" deve ser resolvido do que, necessáriamente, em \"como\" isso deve ser feito. O nível de abstração é maior, ao passo que a pessoa tem a preocupação em descrever determina sequência lógica e qual o resultado esperado.\n",
    "- Nesse paradigma, há declarações iniciais de verdades lógicas que são imutáveis. Assim, depois de realizadas algumas interações entre elas, o resultado será sempre igual (para as declarações que foram feitas)."
   ]
  },
  {
   "cell_type": "markdown",
   "metadata": {},
   "source": [
    "#### Paradigma funcional"
   ]
  },
  {
   "cell_type": "markdown",
   "metadata": {},
   "source": [
    "- Paradigma de programação funcional, o uso de funções é destaque(daí seu nome). O problema é dividido em blocos e para sua resolução, são implementadas funções que definem variáveis em seu escopo e retornam algum resultado.\n",
    "- É bastante indicado quando a solução requerida é formente dependente de uma base matemática.\n",
    "- Paradigma funcional tem também alocação de memória automática. isso elimina possíveis efeitos colaterais nos cálculos matemáticos das funções. Ex.: linguagens suportadas, LISP, o Scheme e o Haskell."
   ]
  },
  {
   "cell_type": "markdown",
   "metadata": {},
   "source": [
    "#### Paradigma lógico"
   ]
  },
  {
   "cell_type": "markdown",
   "metadata": {},
   "source": [
    "- O paradigma lógico é um tanto distinto dos demais paradigmas e deriva do declarativo. Fundamentalmente, utiliza formas de lógica simbólica como padrões de entrada e saída. A partir daí, realiza inferências para produzir os resultados. Ex.: Linguagens que utilizam esse paradigma, QLISP, Mercury e Prolog. Obs.: São utilizadas em solução de problemas que envolvem inteligência artificial, criação de programas especialistas e comprovação de teoremas.\n"
   ]
  },
  {
   "cell_type": "markdown",
   "metadata": {},
   "source": [
    "#### Paradigma orientado a objeto"
   ]
  },
  {
   "cell_type": "markdown",
   "metadata": {},
   "source": [
    "- Esse paradigma é bastante conhecido. Foi popularizado na década de 90 com a linguagem de programação java, permitindo uma programação multiplataforma de uma mesma maneira. Antes disso não era possível realizar tal tipo de trabalho.\n",
    "\n",
    "- O paradigma orientado a objetos surgiu como uma grande aposta para resolver gargalos da indústria de software, como produzir programas de forma mais rápida, com maior confiabilidade e a um menor custo, buscando se apoiar nas características de classe e objeto ao tentar retratar a programação tal qual se enxerga o mundo real.\n",
    "\n",
    "- Segundo esse paradigma, todos os objetos têm determinados estados e comportamentos. Esses estados são descritos pelas classes como atributos. Já a forma como eles se comportam (sua funcionalidade) é definida por meio de métodos, que não são equivalentes às funções do paradigma funcional. Ex.: linguagens de programação que usam o paradigma orientado a objetos são Java, C++, C# e Python."
   ]
  },
  {
   "cell_type": "markdown",
   "metadata": {},
   "source": [
    "#### Paradigma orientado a eventos\n"
   ]
  },
  {
   "cell_type": "markdown",
   "metadata": {},
   "source": [
    "O paradigma de orientação a eventos é usado por toda linguagem de programação que tem uso de recursos gráficos, como jogos e formulários. Dessa forma, a execução do programa se dá a medida que quem usa é responsável pelo momento em que o programa se dá a medida que determinados eventos são disparados pelo usuário. Quem usa é responsável pelo momento em que o programa é executado.\n",
    "- Imagine uma caixa de formulário que precisa do preencimento do usuário. Os eventos descritos no código fonte serão executados à medida em que se realiza o preencimento dos campos solicitados e além disso, ocorrem execuções também quando se decide enviar os dados clicando no botão de envio. São eventos que disparam outros eventos."
   ]
  },
  {
   "cell_type": "markdown",
   "metadata": {},
   "source": [
    "## Objeto"
   ]
  },
  {
   "cell_type": "markdown",
   "metadata": {},
   "source": [
    "Um objeto é um elemento computacional que representa, no domínio da solução, alguma entidade (abstrata ou concreta) do domínio de interesse do problema sob análise. Objetos similares são agrupados em classes.\n",
    "\n",
    "- No paradigma de orientação a objetos, tudo pode ser potencialmente representado como um objeto. Sob o ponto de vista da programação, um objeto não é muito diferente de uma variável no paradigma de programação convencional. Por exemplo, quando defini-se uma variável do tipo int em C ou Java, essa variável tem: \n",
    "    \n",
    "    - um espaço em memória para registrar o seu estado atual(um valor);\n",
    "    - um conjunto de operações associadas que podem ser aplicadas a ela, através dos operadores definidos na linguagem que podem ser aplicados a valores inteiros(soma, subtração, inversão de sinal, multplicação, divisão inteira, resto da divisão inteira, incremento, decremento). Da mesma forma, quando se cria um objeto, esse objeto adquire um espaço em memória para armazenar seu estado (os valores de seu conjunto de atributos, definidos pela classe) e um conjunto de operações que podem ser aplicadas ao objeto (o conjunto de métodos definidos pela classe).\n",
    "\n",
    "    - um programa orientado a objetos é composto por um conjunto de objetos que interagem através de \"Troca de mensagens\". Na prática essa troca de mensagem traduz-se na invocação de métodos entre objetos."
   ]
  },
  {
   "cell_type": "markdown",
   "metadata": {},
   "source": [
    "## Classe"
   ]
  },
  {
   "cell_type": "markdown",
   "metadata": {},
   "source": [
    "- Uma classe é um gabarito para a definição de objetos. Através da definição de uma classe, descreve-se que propriedades -- ou atributos -- o objeto terá;\n",
    "- Além da especificação de atributos, a definição de uma classe descreve também qual o comportamento de objetos da classe, ou seja, que funcionalidades podem ser aplicadas a objetos da classe. Essas funcionalidades são descritas através de métodos. Um método nada mais é que o equivalente a um procedimento ou função, com a restrição que ele manipula apenas suas variáveis locais e os atributos que foram definidos para a classe. "
   ]
  },
  {
   "cell_type": "code",
   "execution_count": null,
   "metadata": {},
   "outputs": [],
   "source": [
    "# exemplo para classe e objeto\n",
    "class Pessoa:\n",
    "    def __init__(self, nome, idade):\n",
    "        self.nome = nome\n",
    "        self.idade = idade\n",
    "\n",
    "# Criando uma instância da classe Pessoa\n",
    "pessoa1 = Pessoa(nome=\"Maria\", idade=30)\n",
    "\n",
    "# Acessando os atributos da instância\n",
    "print(f\"Nome: {pessoa1.nome}, Idade: {pessoa1.idade}\")\n"
   ]
  },
  {
   "cell_type": "markdown",
   "metadata": {},
   "source": [
    "## Método"
   ]
  },
  {
   "cell_type": "markdown",
   "metadata": {},
   "source": [
    "- Métodos são o meio que utilizamos para ler, modificar e definir os atributos de um objeto. Estão sempre associados a uma classe e, desta forma, podem ter seu escopo definido para poderem ser acessíveis a diferentes níveis: podemos definir métodos que somente podem ser acessados internamente naquela classe, métodos que não podem ser acessados diretamente e métodos que podem ser acessados de qualquer parte do nosso projeto.\n",
    "\n",
    "    #### Motivos para se utilizar métodos\n",
    "\n",
    "    - Utilizamos os métodos para fazer esses acessos aos objetos por questões de segurança e integridade do objeto em si e da aplicação como um todo, temos que pensar que em uma aplicação completa, os dados dos objetos são armazendos em um banco de dados, não é interessante (não é uma boa prática) a gente permitir o acesso direto a essas informações, nem mesmo que seja apenas para consulta.\n",
    "\n",
    "    - Os métodos mais utilizados, que inclusive geraram em diversas IDEs soluções prontas para a criação deles são os métodos conhecidos como \"Getters and Setters\", basicamente são os métodos utilizados para se obter a informação sobre algum atributo do objeto (getters) e definir o valor de algum atributo do objeto (setters)."
   ]
  },
  {
   "cell_type": "code",
   "execution_count": null,
   "metadata": {},
   "outputs": [],
   "source": [
    "# exemplo de método\n",
    "class Pessoa:\n",
    "    def __init__(self, nome, idade):\n",
    "        self.nome = nome\n",
    "        self.idade = idade\n",
    "\n",
    "    def apresentar(self):\n",
    "        return f\"Olá, meu nome é {self.nome} e tenho {self.idade} anos.\"\n",
    "\n",
    "    def envelhecer(self, anos):\n",
    "        self.idade += anos\n",
    "\n",
    "# Criando uma instância da classe Pessoa\n",
    "pessoa1 = Pessoa(nome=\"Maria\", idade=30)\n",
    "\n",
    "# Chamando os métodos\n",
    "print(pessoa1.apresentar())  # Saída: \"Olá, meu nome é Maria e tenho 30 anos.\"\n",
    "pessoa1.envelhecer(5)\n",
    "print(f\"Idade após envelhecer: {pessoa1.idade}\")  # Saída: \"Idade após envelhecer: 35\"\n"
   ]
  },
  {
   "cell_type": "markdown",
   "metadata": {},
   "source": [
    "## Herança"
   ]
  },
  {
   "cell_type": "markdown",
   "metadata": {},
   "source": [
    "- A herança é um conceito fundamental na Programação orientada a objetos(POO). Ela Permite criar novas classes com base em classes ja existentes.\n",
    "\n",
    "    - Superclasse (Classe Base): É a classe que concede características da classe base.\n",
    "    - Subclasse (Classe Derivada): É a classe que herda as características da classe base.\n",
    "\n",
    "- Exemplo: Imagina uma classe base chamada Animal com atributos como Nome, Tipo, Idade e CorDoPelo. Uma subclasse chamada Cachorro poderia herdar esses atributos da classe Animal e de forma organizada e reutilizar código de maneira eficiente."
   ]
  },
  {
   "cell_type": "code",
   "execution_count": null,
   "metadata": {},
   "outputs": [],
   "source": [
    "# exemplo com herança\n",
    "class Animal:\n",
    "    def __init__(self, nome, tipo, idade, cor_do_pelo):\n",
    "        self.nome = nome\n",
    "        self.tipo = tipo\n",
    "        self.idade = idade\n",
    "        self.cor_do_pelo = cor_do_pelo\n",
    "\n",
    "class Cachorro(Animal):\n",
    "    def __init__(self, nome, idade, cor_do_pelo, raca):\n",
    "        super().__init__(nome, tipo=\"Mamífero\", idade=idade, cor_do_pelo=cor_do_pelo)\n",
    "        self.raca = raca\n",
    "\n",
    "    def latir(self):\n",
    "        return f\"{self.nome} está latindo!\"\n",
    "\n",
    "# Criando uma instância da classe Cachorro\n",
    "meu_cachorro = Cachorro(nome=\"Rex\", idade=3, cor_do_pelo=\"Marrom\", raca=\"Labrador\")\n",
    "\n",
    "# Acessando atributos e chamando método\n",
    "print(f\"{meu_cachorro.nome} é um {meu_cachorro.tipo} da raça {meu_cachorro.raca}.\")\n",
    "print(meu_cachorro.latir())\n"
   ]
  },
  {
   "cell_type": "markdown",
   "metadata": {},
   "source": [
    "## Polimorfismo"
   ]
  },
  {
   "cell_type": "markdown",
   "metadata": {},
   "source": [
    "- O polimorfismo é um princípio fundamental da Programação orientada a objetos (POO) que nos permite tratar objetos de classes diferentes de maneira uniforme, desde que compartilhem uma interface comum ou uma classe base.\n",
    "    - Definição:\n",
    "        - O termo polimorfismo vem das palavras gregas \"poly\" (muitos) e \"morph\" (formas).\n",
    "        - Ele denota a capacidade de um objeto para assumir muitas formas.\n",
    "        - Junto com a encapsulação, herança e abstração, o polimorfismo é um dos pilares da POO.\n",
    "    - Exemplo com Vendedores e Diretores:\n",
    "        - Imagine que temos uma classe base chamada Pessoa com um método chamado CalcularVendas.\n",
    "        - Agora criamos duas classes derivadas: Vendedor e Diretor.\n",
    "        - Ambas as classes têm seu próprio comportamento específico para o método CalcularVendas.\n",
    "        - O método é polimórfico, pois se comporta de maneira diferente para cada classe derivada."
   ]
  },
  {
   "cell_type": "markdown",
   "metadata": {},
   "source": [
    "#### Exemplo em código python\n",
    "\n",
    "\n"
   ]
  },
  {
   "cell_type": "code",
   "execution_count": null,
   "metadata": {},
   "outputs": [],
   "source": [
    "class Pessoa:\n",
    "    def CalcularVendas(self):\n",
    "        # Implementação genérica (na classe base)\n",
    "        pass\n",
    "\n",
    "class Vendedor(Pessoa):\n",
    "    def CalcularVendas(self):\n",
    "        # Implementação específica para vendedores\n",
    "        pass\n",
    "\n",
    "class Diretor(Pessoa):\n",
    "    def CalcularVendas(self):\n",
    "        # Implementação específica para diretores\n",
    "        pass"
   ]
  },
  {
   "cell_type": "markdown",
   "metadata": {},
   "source": [
    "### Benefícios do Polimorfismo:\n",
    "\n",
    "- Flexibilidade: Podemos tratar diferentes objetos de forma uniforme.\n",
    "- Reutilização de Código: Definimos métodos comuns na classe base e os implementamos de forma específica nas subclasses3.\n",
    "- Em resumo, o polimorfismo nos permite criar código mais flexível, reutilizável e adaptável, tornando a POO uma abordagem poderosa para modelar sistemas complexos! "
   ]
  },
  {
   "cell_type": "markdown",
   "metadata": {},
   "source": [
    "## O que é encapsulamento"
   ]
  },
  {
   "cell_type": "markdown",
   "metadata": {},
   "source": [
    "- O encapsulamento é um dos pilares da POO. Ele consiste em esconder a implemnentação interna de um objeto.\n",
    "- A ideia é permitir que somente os métodos da própria classe possam acessar e modificar os atributos do objeto.\n",
    "- magine que você está construindo uma casa. O encapsulamento é como as paredes e portas dessa casa.\n",
    "Ele protege os detalhes internos, como a fiação elétrica, tubulações e estrutura, escondendo-os dos moradores e visitantes.\n",
    "- Na POO, o encapsulamento faz o mesmo, esconde os detalhes internos de uma classe, tornando-os inacessíveis fora dela.\n",
    "- Por que usar o Encapsulamento?\n",
    "    - Segurança: Evita que dados sejam alterados indevidamente.\n",
    "    - Organização: Mantém os atributos e métodos agrupados dentro da classe.\n",
    "    - Reutilização: Permite mudar a implementação interna sem afetar o código externo.\n",
    "- Como Funciona?\n",
    "    - Atributos Privados: Definimos os atributos como privados (usando um underscore no início, como _saldo).\n",
    "    - Métodos Get e Set: Criamos métodos públicos (getters e setters) para acessar e modificar esses atributos.\n",
    "\n"
   ]
  },
  {
   "cell_type": "code",
   "execution_count": null,
   "metadata": {},
   "outputs": [],
   "source": [
    "#Exemplo em Python\n",
    "\n",
    "class ContaBancaria:\n",
    "    def __init__(self):\n",
    "        self._saldo = 0\n",
    "\n",
    "    def depositar(self, valor):\n",
    "        if valor > 0:\n",
    "            self._saldo += valor\n",
    "\n",
    "    def obter_saldo(self):\n",
    "        return self._saldo\n",
    "\n",
    "minha_conta = ContaBancaria()\n",
    "minha_conta.depositar(100)\n",
    "print(minha_conta.obter_saldo())  # Saída: 100"
   ]
  },
  {
   "cell_type": "markdown",
   "metadata": {},
   "source": [
    "### Benefícios do Encapsulamento\n",
    "- Controle: Você decide quem pode acessar e modificar os atributos.\n",
    "- Manutenção: Facilita a manutenção e correção de bugs.\n",
    "- Abstração: Os usuários da classe não precisam saber como os detalhes internos funcionam.\n",
    " - Em resumo, o encapsulamento é como construir paredes sólidas em torno dos detalhes internos de uma classe, protegendo-os e tornando seu código mais robusto e seguro!"
   ]
  }
 ],
 "metadata": {
  "kernelspec": {
   "display_name": ".venv",
   "language": "python",
   "name": "python3"
  },
  "language_info": {
   "name": "python",
   "version": "3.12.3"
  }
 },
 "nbformat": 4,
 "nbformat_minor": 2
}
