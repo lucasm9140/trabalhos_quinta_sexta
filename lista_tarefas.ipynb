{
 "cells": [
  {
   "cell_type": "markdown",
   "metadata": {},
   "source": [
    "# Lista de Tarefas\n",
    "\n",
    "Responda as perguntas:\n",
    "O que é ?\n",
    "Para que serve?\n",
    "Como fazer?\n",
    "\n",
    "Criar um notbook e enviar o link  para instrutor.romulo@gmail.com\n",
    "# Quinta-Feira\n",
    "\n",
    "## Orientação a objetos\n",
    "- Paradigma\n",
    "- Objeto\n",
    "- Classe\n",
    "- Método\n",
    "- Herança\n",
    "- Polimorfismo\n",
    "- Encapsulamento\n",
    "\n",
    "\n",
    "# Sexta-Feira\n",
    "- Estatística\n",
    "\n",
    "- Média\n",
    "- Mediana\n",
    "- Moda\n",
    "- Quartis\n",
    "- Desvio Padrão "
   ]
  }
 ],
 "metadata": {
  "kernelspec": {
   "display_name": ".venv",
   "language": "python",
   "name": "python3"
  },
  "language_info": {
   "name": "python",
   "version": "3.12.3"
  }
 },
 "nbformat": 4,
 "nbformat_minor": 2
}
